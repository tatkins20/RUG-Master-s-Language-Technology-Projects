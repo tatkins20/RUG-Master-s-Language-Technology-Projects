{
 "cells": [
  {
   "cell_type": "markdown",
   "metadata": {
    "slideshow": {
     "slide_type": "slide"
    }
   },
   "source": [
    "# Introduction to Machine Learning (ML)\n",
    "\n",
    "adapted by [@\\_atoral](https://twitter.com/_atoral), originally by [@barbara_plank](https://twitter.com/barbara_plank)\n",
    "\n",
    "\n",
    "<small>\n",
    "[with parts inspired by many, amongst which: Anders Johannsen, Dirk Hovy, Malvina Nissim, sklearn tutorial.. thanks!]\n",
    "</small>"
   ]
  },
  {
   "cell_type": "markdown",
   "metadata": {
    "slideshow": {
     "slide_type": "slide"
    }
   },
   "source": [
    "## Machine learning = learning from data\n",
    "\n",
    "learning what? \n",
    "\n",
    "to make **predictions**"
   ]
  },
  {
   "cell_type": "markdown",
   "metadata": {
    "slideshow": {
     "slide_type": "slide"
    }
   },
   "source": [
    "### After this lecture\n",
    "\n",
    "* You should know the basics of Machine Learning (data, features, model/algorithm/ training, evaluation)\n",
    "* You will know a simple classification algorithm: `LogisticRegression`\n",
    "* You will apply your knowledge by training a `LogisticRegression` model on sentiment analysis data (exercise)"
   ]
  },
  {
   "cell_type": "markdown",
   "metadata": {
    "slideshow": {
     "slide_type": "fragment"
    }
   },
   "source": [
    "* is today a good day to get an ice cream?\n",
    "* what is the sentiment of this tweet?\n",
    "* how is the weather in 24h from now?"
   ]
  },
  {
   "cell_type": "markdown",
   "metadata": {
    "slideshow": {
     "slide_type": "slide"
    }
   },
   "source": [
    "## What do you do in front of a zebra crossing?\n",
    "\n",
    "<img src=\"pics/zebracrossing.jpg\">\n",
    "[Example inspired by traffic light by M. Nissim]"
   ]
  },
  {
   "cell_type": "markdown",
   "metadata": {
    "slideshow": {
     "slide_type": "slide"
    }
   },
   "source": [
    "## Zebra crossing\n",
    "\n",
    "**STOP** or **GO**\n",
    "\n",
    "How can we teach someone this behavior?"
   ]
  },
  {
   "cell_type": "markdown",
   "metadata": {
    "slideshow": {
     "slide_type": "fragment"
    }
   },
   "source": [
    "* create ad hoc **rules** (as exhaustive as possible). Aka rule-based or symbolic approach.\n",
    "* collect a set of real **examples** of what people do at a zebra crossing"
   ]
  },
  {
   "cell_type": "markdown",
   "metadata": {
    "slideshow": {
     "slide_type": "slide"
    }
   },
   "source": [
    "### Examples\n",
    "\n",
    "collect **examples** (cases) of zebra crossings and people's behavior (stop or go)\n",
    "\n",
    "* zebra crossing $\\rightarrow$ **features** (characteristics)\n",
    "* result $\\rightarrow$ **label** (category: stop, go)\n",
    "\n",
    "with these examples we can use machine learning to **induce** a classifier (= **build a predictor**) that **generalizes** from the observed exampels"
   ]
  },
  {
   "cell_type": "markdown",
   "metadata": {
    "slideshow": {
     "slide_type": "slide"
    }
   },
   "source": [
    "## Why can't we just build a predictor by coding it up?"
   ]
  },
  {
   "cell_type": "markdown",
   "metadata": {
    "slideshow": {
     "slide_type": "fragment"
    }
   },
   "source": [
    "* can't be exhaustive enough\n",
    "* often we don't know how\n",
    "* trade-off between cost of obtaining **data** versus **knowledge**"
   ]
  },
  {
   "cell_type": "markdown",
   "metadata": {
    "slideshow": {
     "slide_type": "slide"
    }
   },
   "source": [
    "### Machine Learning versus traditional programming\n",
    "\n",
    "<img src=\"pics/prog-vs-ml.png\" width=600>"
   ]
  },
  {
   "cell_type": "markdown",
   "metadata": {
    "slideshow": {
     "slide_type": "slide"
    }
   },
   "source": [
    "## Machine Learning is ubiquitous\n",
    "\n",
    "* recommended books in online book stores\n",
    "* your spam classifier\n",
    "* machine translation\n",
    "* NetFlix movie recommendation\n"
   ]
  },
  {
   "cell_type": "markdown",
   "metadata": {
    "slideshow": {
     "slide_type": "slide"
    }
   },
   "source": [
    "## ML is the future, and you know it\n",
    "*Name one thing that computers cannot do today but might be able to accomplish in five years.*\n",
    "\n"
   ]
  },
  {
   "cell_type": "markdown",
   "metadata": {
    "slideshow": {
     "slide_type": "fragment"
    }
   },
   "source": [
    "- \"Make interesting conversational partners\"\n",
    "- \"Flawless object recognition (when objects are shown from an unfamiliar angle)\"\n",
    "- \"Cook food via robots?\"\n",
    "- \"Summarize the plot of a movie by visual analysis.\"\n"
   ]
  },
  {
   "cell_type": "markdown",
   "metadata": {
    "slideshow": {
     "slide_type": "slide"
    }
   },
   "source": [
    "## Machine Learning tasks\n",
    "\n"
   ]
  },
  {
   "cell_type": "markdown",
   "metadata": {
    "slideshow": {
     "slide_type": "fragment"
    }
   },
   "source": [
    "* **Supervised learning**: predict target $y$ from input $X$\n",
    "  * $y$ is a category or \"class\" label (or target label) ==> **classification**\n",
    "  * $y$ is a real value ==> **regression**\n",
    "  \n",
    "* **Unsupervised learning** (learning in the light of no labeled data, only X, clustering/density estimation, we will not touch much upon this)"
   ]
  },
  {
   "cell_type": "markdown",
   "metadata": {
    "slideshow": {
     "slide_type": "slide"
    }
   },
   "source": [
    "## Classification\n",
    "\n",
    "In classification we assign a *discrete* label to an object (class/label/target label)\n",
    "\n",
    "<img src=\"pics/running.jpg\" width=400>\n",
    "\n",
    "\n",
    "For instance, **what kind of food is passing on the running belt**?\n",
    "\n",
    "In programming terms, a classifier is an algorithm for deciding which category the object belongs to.\n",
    "In math terms, a classifier is a function that maps the object to a set of discrete categories."
   ]
  },
  {
   "cell_type": "markdown",
   "metadata": {
    "slideshow": {
     "slide_type": "slide"
    }
   },
   "source": [
    "### Function notation\n",
    "\n",
    "In regression $$f: \\mathbb{R} \\mapsto \\mathbb{R}$$"
   ]
  },
  {
   "cell_type": "code",
   "execution_count": 2,
   "metadata": {
    "slideshow": {
     "slide_type": "fragment"
    }
   },
   "outputs": [],
   "source": [
    "def triple(a_number):\n",
    "    return 3 * a_number"
   ]
  },
  {
   "cell_type": "markdown",
   "metadata": {
    "slideshow": {
     "slide_type": "fragment"
    }
   },
   "source": [
    "In classification $$f: \\mathbb{R} \\mapsto \\{0, 1\\}$$"
   ]
  },
  {
   "cell_type": "code",
   "execution_count": 3,
   "metadata": {
    "slideshow": {
     "slide_type": "fragment"
    }
   },
   "outputs": [],
   "source": [
    "def is_expensive_house(house_price):\n",
    "    if house_price > 1000000:\n",
    "        return 1\n",
    "    else: \n",
    "        return 0"
   ]
  },
  {
   "cell_type": "markdown",
   "metadata": {
    "slideshow": {
     "slide_type": "slide"
    }
   },
   "source": [
    "### Classifier as a function\n",
    "\n",
    "Formally, we can think of a classifier as a mathematical function $h$, mapping from the input $x$ to one of $k$ output categories. Often the input $x \\in \\mathbb{R}^d$ is a vector of real numbers.\n",
    "\n",
    "$$h: \\mathbb{R}^d \\mapsto \\{1, 2, \\ldots, k\\} $$"
   ]
  },
  {
   "cell_type": "markdown",
   "metadata": {
    "slideshow": {
     "slide_type": "fragment"
    }
   },
   "source": [
    "Often our instances are represented with a binary vector (which tells us which feature/clue is 'active'/on), here $x \\in \\mathbf{2}^d$, for example [0,1,0,0,1,1]:\n",
    "\n",
    "$$h: \\mathbf{2}^d \\mapsto \\{1, 2, \\ldots, k\\}$$\n",
    "\n"
   ]
  },
  {
   "cell_type": "markdown",
   "metadata": {
    "slideshow": {
     "slide_type": "fragment"
    }
   },
   "source": [
    "In general:\n",
    "\n",
    "$$h: \\mathcal{X} \\mapsto \\mathcal{Y}$$\n"
   ]
  },
  {
   "cell_type": "code",
   "execution_count": 4,
   "metadata": {
    "slideshow": {
     "slide_type": "slide"
    }
   },
   "outputs": [],
   "source": [
    "# you can think of an `instance` as a set of properties \n",
    "# with the features as the 'clues' that help us determine the label\n",
    "def classify_animal(instance):\n",
    "    if 'extinct' in instance and 'feathered' in instance:\n",
    "        return 'dinosaur'\n",
    "    elif 'feathered' in instance:\n",
    "        return 'bird'\n",
    "    else:\n",
    "        return 'mammal'\n",
    "\n",
    "# In this example there are at least:\n",
    "# - 2 binary features (extinct and feathered)\n",
    "# - 3 classes (dinosaur, bird and mammal)"
   ]
  },
  {
   "cell_type": "markdown",
   "metadata": {
    "slideshow": {
     "slide_type": "slide"
    }
   },
   "source": [
    "## Machine learning algorithms"
   ]
  },
  {
   "cell_type": "markdown",
   "metadata": {
    "slideshow": {
     "slide_type": "fragment"
    }
   },
   "source": [
    "Machine learning algorithms are a special kind of algorithms that take data as input and return a new algorithm as output. E.g. "
   ]
  },
  {
   "cell_type": "markdown",
   "metadata": {
    "slideshow": {
     "slide_type": "fragment"
    }
   },
   "source": [
    "$$f: \\mathcal{D} \\mapsto \\left(\\mathbb{R}^d \\mapsto \\{1, 2, \\ldots, k\\}\\right)$$\n"
   ]
  },
  {
   "cell_type": "markdown",
   "metadata": {
    "slideshow": {
     "slide_type": "fragment"
    }
   },
   "source": [
    "We learn the algorithm on the basis of a set of examples, a **training set**:\n",
    "\n",
    "$$\\mathcal{D} = \\{(x_1, f(x_1) ), \\ldots (x_n, f(x_n)) \\}$$\n"
   ]
  },
  {
   "cell_type": "markdown",
   "metadata": {
    "slideshow": {
     "slide_type": "slide"
    }
   },
   "source": [
    "In general, we learn a function (parametrized by $w$, the weights to be learned) that can map inputs to outputs:\n",
    "\n",
    "$$h_w: \\mathcal{X} \\mapsto \\mathcal{Y}$$"
   ]
  },
  {
   "cell_type": "markdown",
   "metadata": {
    "slideshow": {
     "slide_type": "fragment"
    }
   },
   "source": [
    "What does learning mean? \n",
    "\n",
    "* It means to estimate the values for the parameters of a model $w$ \n",
    "* These **parameters** are typically also called **weights** (sometimes denoted $\\theta$)\n",
    "* For example in a simple linear model we can try to find the weights that maximize the likelihood of producing our given data. This is typically done using an iterative process (more on this later). "
   ]
  },
  {
   "cell_type": "markdown",
   "metadata": {
    "slideshow": {
     "slide_type": "slide"
    }
   },
   "source": [
    "<img src=\"pics/learning-vp.png\">\n",
    "<a href=\"http://www.iro.umontreal.ca/~vincentp/ift3395/cours/FromLinearRegressionToNNets.pdf\">By Pascal Vincent</a>"
   ]
  },
  {
   "cell_type": "markdown",
   "metadata": {
    "slideshow": {
     "slide_type": "slide"
    }
   },
   "source": [
    "## ML 101: What we need\n",
    "\n",
    "1. Data\n",
    "  * what your data looks like, the input $X$ and output (labels) $Y$ \n",
    "2. Features\n",
    "  * how to represent your data (the actual features): how to decompose $X$ into its parts by $\\phi$\n",
    "3. Model/Algorithm\n",
    "  * the machine learning algorithm used \n",
    "4. Evaluation\n",
    "  * how to measure how good your model is "
   ]
  },
  {
   "cell_type": "markdown",
   "metadata": {
    "slideshow": {
     "slide_type": "slide"
    }
   },
   "source": [
    "### Machine Learning - Supervised Learning: \n",
    "<img src=\"pics/learning.png\" width=800>"
   ]
  },
  {
   "cell_type": "markdown",
   "metadata": {
    "slideshow": {
     "slide_type": "slide"
    }
   },
   "source": [
    "## Recap: Classification vs Regression\n",
    "\n",
    "\n",
    "The goal of machine learning is to find a function $f$ that, given some input $x$, produces predictions for that input, $y$.\n",
    "\n",
    "In **supervised machine learning** the y’s are given, and are called the labels. They can be categorial, like ”sports”, ”news”, etc. or numerical, e.g. 7, 8, 10. If the labels are categorical we speak of **classification**, in case of numerical labels the task is **regression**."
   ]
  },
  {
   "cell_type": "markdown",
   "metadata": {
    "slideshow": {
     "slide_type": "slide"
    }
   },
   "source": [
    "## Recap - Notation:\n",
    "\n",
    "* We will use *x* to denote the 'input' variables (also called the features)\n",
    "* and *y* to denote the 'output' or target (or label or class)\n",
    "* A pair *(x,y)* is called a training instance\n",
    "* A entire dataset of pairs *(x,y)* is called a training set $\\mathcal{D}$\n",
    "* The set of all output values is denoted $\\mathcal{Y}$\n",
    "* $\\mathcal{X}$ denotes the space of input values\n",
    "* Given a training set $\\mathcal{D}$, the task is to learn a function $h: \\mathcal{X} \\mapsto \\mathcal{Y}$ so that $h(x)$ is a good predictor for the corresponding value of $y$\n"
   ]
  },
  {
   "cell_type": "markdown",
   "metadata": {
    "slideshow": {
     "slide_type": "slide"
    }
   },
   "source": [
    "## Example: Training a classifier on the IRIS dataset\n",
    "\n",
    "In this section, we will train a classifier on the [IRIS data set](http://scikit-learn.org/stable/tutorial/statistical_inference/supervised_learning.html). \n",
    "\n",
    "<img src=\"pics/iris.png\">\n",
    "This data set is about plants and it is included in `sklearn`. It is ready to use, meaning that features are already extracted for the data instances $x$, and each training instance has an associated class label $y$. In the next section we will see how to extract features and use them in `sklearn`."
   ]
  },
  {
   "cell_type": "code",
   "execution_count": 5,
   "metadata": {
    "slideshow": {
     "slide_type": "slide"
    }
   },
   "outputs": [],
   "source": [
    "from sklearn import datasets\n",
    "iris = datasets.load_iris()\n"
   ]
  },
  {
   "cell_type": "markdown",
   "metadata": {
    "slideshow": {
     "slide_type": "fragment"
    }
   },
   "source": [
    "The iris data set consists of 150 training instances with 3 classes (setosa, versicolor, virginica). Technically, it is stored as a python dict, thus we can use dict.keys() to inspect its contents:"
   ]
  },
  {
   "cell_type": "code",
   "execution_count": 6,
   "metadata": {
    "slideshow": {
     "slide_type": "fragment"
    }
   },
   "outputs": [
    {
     "data": {
      "text/plain": [
       "dict_keys(['data', 'target', 'target_names', 'DESCR', 'feature_names', 'filename'])"
      ]
     },
     "execution_count": 6,
     "metadata": {},
     "output_type": "execute_result"
    }
   ],
   "source": [
    "iris.keys()"
   ]
  },
  {
   "cell_type": "code",
   "execution_count": 7,
   "metadata": {
    "slideshow": {
     "slide_type": "fragment"
    }
   },
   "outputs": [
    {
     "data": {
      "text/plain": [
       "array(['setosa', 'versicolor', 'virginica'], dtype='<U10')"
      ]
     },
     "execution_count": 7,
     "metadata": {},
     "output_type": "execute_result"
    }
   ],
   "source": [
    "# the possible Y's (labels/categories)\n",
    "iris['target_names']"
   ]
  },
  {
   "cell_type": "markdown",
   "metadata": {
    "slideshow": {
     "slide_type": "slide"
    }
   },
   "source": [
    "Looking at the labels of the IRIS dataset:"
   ]
  },
  {
   "cell_type": "code",
   "execution_count": 8,
   "metadata": {
    "slideshow": {
     "slide_type": "fragment"
    }
   },
   "outputs": [
    {
     "name": "stdout",
     "output_type": "stream",
     "text": [
      "[0 1 2]\n"
     ]
    }
   ],
   "source": [
    "import numpy as np\n",
    "iris_X = iris.data\n",
    "iris_y = iris.target\n",
    "## in sklearn labels/categories are actually encoded as numbers!\n",
    "print(np.unique(iris_y))"
   ]
  },
  {
   "cell_type": "markdown",
   "metadata": {
    "slideshow": {
     "slide_type": "slide"
    }
   },
   "source": [
    "### How do the examples/data instances/cases look like?\n",
    "\n",
    "Each training instance consists of 4 attributes (thus is 4-dimensional, or a vector with 4 dimensions), in this case numerical measurements. We can get a description using feature_names. For instance, let us look at the first data instance $x_0$:"
   ]
  },
  {
   "cell_type": "code",
   "execution_count": 9,
   "metadata": {
    "slideshow": {
     "slide_type": "fragment"
    }
   },
   "outputs": [
    {
     "data": {
      "text/plain": [
       "array([5.1, 3.5, 1.4, 0.2])"
      ]
     },
     "execution_count": 9,
     "metadata": {},
     "output_type": "execute_result"
    }
   ],
   "source": [
    "iris_X[0]"
   ]
  },
  {
   "cell_type": "code",
   "execution_count": 10,
   "metadata": {
    "slideshow": {
     "slide_type": "fragment"
    }
   },
   "outputs": [
    {
     "data": {
      "text/plain": [
       "['sepal length (cm)',\n",
       " 'sepal width (cm)',\n",
       " 'petal length (cm)',\n",
       " 'petal width (cm)']"
      ]
     },
     "execution_count": 10,
     "metadata": {},
     "output_type": "execute_result"
    }
   ],
   "source": [
    "iris['feature_names']"
   ]
  },
  {
   "cell_type": "markdown",
   "metadata": {
    "slideshow": {
     "slide_type": "fragment"
    }
   },
   "source": [
    "<img src=\"http://www.wpclipart.com/plants/diagrams/plant_parts/petal_sepal_label.png\" width=300>"
   ]
  },
  {
   "cell_type": "markdown",
   "metadata": {
    "slideshow": {
     "slide_type": "slide"
    }
   },
   "source": [
    "### How are the target (class labels) stored?\n",
    "\n",
    "The class labels $y$ for the instances are actually stored as integers (indices corresponding to the respective target_names entry). Thus, the first instance is of type setosa:"
   ]
  },
  {
   "cell_type": "code",
   "execution_count": 11,
   "metadata": {
    "slideshow": {
     "slide_type": "fragment"
    }
   },
   "outputs": [
    {
     "data": {
      "text/plain": [
       "0"
      ]
     },
     "execution_count": 11,
     "metadata": {},
     "output_type": "execute_result"
    }
   ],
   "source": [
    "iris_y[0]"
   ]
  },
  {
   "cell_type": "code",
   "execution_count": 12,
   "metadata": {
    "slideshow": {
     "slide_type": "fragment"
    }
   },
   "outputs": [
    {
     "data": {
      "text/plain": [
       "'setosa'"
      ]
     },
     "execution_count": 12,
     "metadata": {},
     "output_type": "execute_result"
    }
   ],
   "source": [
    "# readable name\n",
    "iris['target_names'][iris_y[0]]"
   ]
  },
  {
   "cell_type": "markdown",
   "metadata": {
    "slideshow": {
     "slide_type": "slide"
    }
   },
   "source": [
    "## Training \n"
   ]
  },
  {
   "cell_type": "markdown",
   "metadata": {
    "slideshow": {
     "slide_type": "fragment"
    }
   },
   "source": [
    "Now that we know how the data looks like, we are ready to train a classifier. Say for this toy example we train it on 80% of the data, and evaluate on the remaining 20%. Let us train a simple logistic regression classifier with `sklearn`."
   ]
  },
  {
   "cell_type": "code",
   "execution_count": 13,
   "metadata": {
    "slideshow": {
     "slide_type": "slide"
    }
   },
   "outputs": [
    {
     "name": "stdout",
     "output_type": "stream",
     "text": [
      "#inst train: 120\n",
      "#inst test: 30\n"
     ]
    },
    {
     "data": {
      "text/plain": [
       "LogisticRegression(C=1.0, class_weight=None, dual=False, fit_intercept=True,\n",
       "          intercept_scaling=1, max_iter=100, multi_class='auto',\n",
       "          n_jobs=None, penalty='l2', random_state=None, solver='liblinear',\n",
       "          tol=0.0001, verbose=0, warm_start=False)"
      ]
     },
     "execution_count": 13,
     "metadata": {},
     "output_type": "execute_result"
    }
   ],
   "source": [
    "## Training a Logistic Regression classifier on the Iris data\n",
    "#!/usr/bin/env python3\n",
    "import numpy as np\n",
    "from sklearn import datasets\n",
    "from sklearn.neighbors import KNeighborsClassifier\n",
    "from sklearn.linear_model import LogisticRegression\n",
    "from sklearn.metrics import classification_report, confusion_matrix, accuracy_score\n",
    "from sklearn.model_selection import train_test_split\n",
    "\n",
    "# 3 classes, 150 instances: X=iris[’data’]  y=iris[’target’]\n",
    "iris = datasets.load_iris()\n",
    "# create random permutation with seed\n",
    "np.random.seed(113)\n",
    "indices = np.random.permutation(len(iris['data']))\n",
    "# split in 80% train, 20% test\n",
    "X_train, X_test, y_train, y_test = train_test_split(iris['data'], iris['target'], test_size=0.2)\n",
    "\n",
    "# output statistics\n",
    "print(\"#inst train: %s\" % (len(X_train)))\n",
    "print(\"#inst test: %s\" % (len(X_test)))\n",
    "\n",
    "# learn a logistic regression classifier\n",
    "clf = LogisticRegression(solver = 'liblinear', multi_class = 'auto')\n",
    "clf.fit(X_train, y_train)"
   ]
  },
  {
   "cell_type": "code",
   "execution_count": 14,
   "metadata": {
    "slideshow": {
     "slide_type": "slide"
    }
   },
   "outputs": [
    {
     "name": "stdout",
     "output_type": "stream",
     "text": [
      "Pred: [0 1 0 2 1 2 0 0 1 2 0 2 0 0 0 0 2 0 1 2 1 0 0 0 1 1 0 1 0 0]\n",
      "Gold: [0 1 0 2 1 2 0 0 1 1 0 2 0 0 0 0 2 0 1 2 1 0 0 0 1 1 0 1 0 0]\n",
      "              precision    recall  f1-score   support\n",
      "\n",
      "      setosa       1.00      1.00      1.00        16\n",
      "  versicolor       1.00      0.89      0.94         9\n",
      "   virginica       0.83      1.00      0.91         5\n",
      "\n",
      "   micro avg       0.97      0.97      0.97        30\n",
      "   macro avg       0.94      0.96      0.95        30\n",
      "weighted avg       0.97      0.97      0.97        30\n",
      "\n"
     ]
    }
   ],
   "source": [
    "# Apply the classifier learnt (clf) to the test set\n",
    "y_pred = clf.predict(X_test)\n",
    "\n",
    "# Evaluate the performance of the classifier on the test set\n",
    "print(\"Pred:\", y_pred)\n",
    "print(\"Gold:\", y_test)\n",
    "print(classification_report(y_test, y_pred, target_names=iris['target_names']))"
   ]
  },
  {
   "cell_type": "markdown",
   "metadata": {
    "slideshow": {
     "slide_type": "slide"
    }
   },
   "source": [
    "### Confusion matrix\n",
    "\n"
   ]
  },
  {
   "cell_type": "code",
   "execution_count": 15,
   "metadata": {
    "slideshow": {
     "slide_type": "fragment"
    }
   },
   "outputs": [
    {
     "name": "stdout",
     "output_type": "stream",
     "text": [
      "[[16  0  0]\n",
      " [ 0  8  0]\n",
      " [ 0  1  5]]\n"
     ]
    }
   ],
   "source": [
    "print(confusion_matrix(y_test, y_pred).T)"
   ]
  },
  {
   "cell_type": "code",
   "execution_count": 16,
   "metadata": {
    "slideshow": {
     "slide_type": "slide"
    }
   },
   "outputs": [
    {
     "name": "stdout",
     "output_type": "stream",
     "text": [
      "Predicted:  setosa  versicolor  virginica  All\n",
      "True:                                         \n",
      "setosa          16           0          0   16\n",
      "versicolor       0           8          0    8\n",
      "virginica        0           1          5    6\n",
      "All             16           9          5   30\n"
     ]
    }
   ],
   "source": [
    "## an alternative\n",
    "import pandas as pd\n",
    "def crosstab(pred, gold):\n",
    "    y_true = pd.Series([iris['target_names'][g] for g in gold])\n",
    "    y_pred = pd.Series([iris['target_names'][p] for p in pred])\n",
    "    print(pd.crosstab(y_true, y_pred, rownames=['True:'], colnames=['Predicted:'], margins=True))\n",
    "    \n",
    "crosstab(y_test, y_pred)"
   ]
  },
  {
   "cell_type": "code",
   "execution_count": 17,
   "metadata": {
    "slideshow": {
     "slide_type": "fragment"
    }
   },
   "outputs": [
    {
     "data": {
      "image/png": "[encoded data removed]",
      "text/plain": [
       "<Figure size 432x288 with 1 Axes>"
      ]
     },
     "metadata": {
      "needs_background": "light"
     },
     "output_type": "display_data"
    }
   ],
   "source": [
    "%matplotlib inline\n",
    "import matplotlib.pyplot as plt\n",
    "conf = confusion_matrix(y_test, y_pred)\n",
    "plt.imshow(conf.T, cmap='binary', interpolation='None')\n",
    "plt.show()"
   ]
  },
  {
   "cell_type": "markdown",
   "metadata": {
    "slideshow": {
     "slide_type": "slide"
    }
   },
   "source": [
    "## Logistic Regression: What is happening behind the scenes?\n",
    "\n",
    "Logistic regression is a simple linear ML classifier (despite its name 'regression' it is a **classification** algorithm, outputing discrete labels):\n",
    "\n",
    "$h(x): \\sigma(w^T \\cdot x) $\n",
    "\n",
    "where\n",
    "\n",
    "$\\sigma = \\frac{1}{1+e^{-z}}$\n",
    "\n",
    "is called the *logistic function* or the *sigmoid function*.\n",
    "\n",
    "The LR classifier is defined as:\n",
    "\n",
    "$$h(x)= \\sigma(w^T \\cdot x) = \n",
    "\\begin{cases}\n",
    "    \\ge 0.5 & y = 1\\\\\n",
    "    < 0.5 & y = 0\n",
    "\\end{cases}$$"
   ]
  },
  {
   "cell_type": "markdown",
   "metadata": {
    "slideshow": {
     "slide_type": "slide"
    }
   },
   "source": [
    "What does the classifier do? Once it has learned weights ($\\theta$), it sums the weights and features (weighted sum):\n",
    "\n",
    "     scores = (weighted sum of features and weights)\n",
    "\n",
    "which is: $w^T x$ \n",
    "\n",
    "And subsequently applies the `sigmoid` ($\\sigma$) to get the final prediction.\n",
    "\n",
    "Thus: $\\sigma(w^T \\cdot x) $"
   ]
  },
  {
   "cell_type": "code",
   "execution_count": 18,
   "metadata": {
    "slideshow": {
     "slide_type": "slide"
    }
   },
   "outputs": [],
   "source": [
    "def sigmoid(scores):\n",
    "    return 1 / (1 + np.exp(-scores))"
   ]
  },
  {
   "cell_type": "code",
   "execution_count": 19,
   "metadata": {
    "slideshow": {
     "slide_type": "fragment"
    }
   },
   "outputs": [
    {
     "data": {
      "text/plain": [
       "[<matplotlib.lines.Line2D at 0x7f6fb3585390>]"
      ]
     },
     "execution_count": 19,
     "metadata": {},
     "output_type": "execute_result"
    },
    {
     "data": {
      "image/png": "[encoded data removed]",
      "text/plain": [
       "<Figure size 432x288 with 1 Axes>"
      ]
     },
     "metadata": {
      "needs_background": "light"
     },
     "output_type": "display_data"
    }
   ],
   "source": [
    "%matplotlib inline \n",
    "# Visualizing the sigmoid\n",
    "x = np.arange(-10., 10., 0.2)\n",
    "sig = sigmoid(x)\n",
    "\n",
    "import matplotlib.pyplot as plt\n",
    "plt.plot(x,sig)"
   ]
  },
  {
   "cell_type": "markdown",
   "metadata": {
    "slideshow": {
     "slide_type": "slide"
    }
   },
   "source": [
    "### Where are the weights coming from?\n",
    "\n",
    "In logistic regression we want to minimize the classification error:\n",
    "\n",
    "$$y_i - \\sigma(w^T x_i)$$\n",
    "\n",
    "So, we want to learn the weights $w$ (sometimes denoted $\\theta$) from the learning data. There are various ways to do so. One way is to use **gradient based methods** (that look at the partial derivative of the *loss* function) to find parameter values. \n",
    "\n",
    "They typically start out with some initial $\\theta$ and update it repeatedly:\n",
    "\n",
    "$ w_{j} = w_j - \\alpha \\frac{\\partial }{\\partial w_j} L(w)$\n",
    "\n",
    "It turns out that (for a single instance) in logistic regression the gradient is:\n",
    "\n",
    " ($y - h_w(x)) * x$\n",
    "\n",
    "For a single training instance, this yields the following update rule:\n",
    "\n",
    "$ w_{j} = w_j - \\alpha (y - h_{w}(x)) x$\n"
   ]
  },
  {
   "cell_type": "markdown",
   "metadata": {
    "slideshow": {
     "slide_type": "notes"
    }
   },
   "source": [
    "More details can be found in:\n",
    "* [Andrew Ng's notes](http://cs229.stanford.edu/notes/cs229-notes1.pdf)\n",
    "* [Nick Becker's notebook (and references therein)](https://github.com/beckernick/logistic_regression_from_scratch/blob/master/logistic_regression_scratch.ipynb)"
   ]
  },
  {
   "cell_type": "markdown",
   "metadata": {
    "slideshow": {
     "slide_type": "slide"
    }
   },
   "source": [
    "### Let us have a look at a simpler example. First generate some data\n"
   ]
  },
  {
   "cell_type": "code",
   "execution_count": 20,
   "metadata": {
    "slideshow": {
     "slide_type": "fragment"
    }
   },
   "outputs": [
    {
     "data": {
      "text/html": [
       "<div>\n",
       "<style scoped>\n",
       "    .dataframe tbody tr th:only-of-type {\n",
       "        vertical-align: middle;\n",
       "    }\n",
       "\n",
       "    .dataframe tbody tr th {\n",
       "        vertical-align: top;\n",
       "    }\n",
       "\n",
       "    .dataframe thead th {\n",
       "        text-align: right;\n",
       "    }\n",
       "</style>\n",
       "<table border=\"1\" class=\"dataframe\">\n",
       "  <thead>\n",
       "    <tr style=\"text-align: right;\">\n",
       "      <th></th>\n",
       "      <th>x1</th>\n",
       "      <th>x2</th>\n",
       "      <th>label</th>\n",
       "    </tr>\n",
       "  </thead>\n",
       "  <tbody>\n",
       "    <tr>\n",
       "      <th>0</th>\n",
       "      <td>-0.413599</td>\n",
       "      <td>-0.662105</td>\n",
       "      <td>0</td>\n",
       "    </tr>\n",
       "    <tr>\n",
       "      <th>1</th>\n",
       "      <td>-1.038840</td>\n",
       "      <td>-0.351690</td>\n",
       "      <td>0</td>\n",
       "    </tr>\n",
       "    <tr>\n",
       "      <th>2</th>\n",
       "      <td>-2.436538</td>\n",
       "      <td>-1.661808</td>\n",
       "      <td>0</td>\n",
       "    </tr>\n",
       "    <tr>\n",
       "      <th>3</th>\n",
       "      <td>1.192142</td>\n",
       "      <td>0.783097</td>\n",
       "      <td>0</td>\n",
       "    </tr>\n",
       "    <tr>\n",
       "      <th>4</th>\n",
       "      <td>1.016685</td>\n",
       "      <td>1.628277</td>\n",
       "      <td>0</td>\n",
       "    </tr>\n",
       "  </tbody>\n",
       "</table>\n",
       "</div>"
      ],
      "text/plain": [
       "         x1        x2  label\n",
       "0 -0.413599 -0.662105      0\n",
       "1 -1.038840 -0.351690      0\n",
       "2 -2.436538 -1.661808      0\n",
       "3  1.192142  0.783097      0\n",
       "4  1.016685  1.628277      0"
      ]
     },
     "execution_count": 20,
     "metadata": {},
     "output_type": "execute_result"
    }
   ],
   "source": [
    "import pandas as pd\n",
    "\n",
    "num_observations = 500\n",
    "x_neg = np.random.multivariate_normal([0, 0], [[1, .75],[.75, 1]], num_observations)\n",
    "x_pos = np.random.multivariate_normal([1, 4], [[1, .75],[.75, 1]], num_observations)\n",
    "\n",
    "simulated_separableish_features = np.vstack((x_neg, x_pos)).astype(np.float32)\n",
    "simulated_labels = np.array(np.hstack((np.zeros(num_observations),\n",
    "                              np.ones(num_observations)))).astype(int)\n",
    "\n",
    "data = pd.DataFrame({'x1': np.concatenate([x_neg[:,0],x_pos[:,0]]),\n",
    "                     'x2': np.concatenate([x_neg[:,1],x_pos[:,1]]),\n",
    "                     'label': simulated_labels})\n",
    "data.head()"
   ]
  },
  {
   "cell_type": "code",
   "execution_count": 31,
   "metadata": {
    "slideshow": {
     "slide_type": "slide"
    }
   },
   "outputs": [
    {
     "data": {
      "image/png": "[encoded data removed]",
      "text/plain": [
       "<Figure size 432x288 with 1 Axes>"
      ]
     },
     "metadata": {
      "needs_background": "light"
     },
     "output_type": "display_data"
    }
   ],
   "source": [
    "# plot the data\n",
    "fig, ax = plt.subplots()\n",
    "\n",
    "data.query('label == 1').plot(kind='scatter', x='x1', y='x2', ax=ax, color='b')\n",
    "data.query('label == 0').plot(kind='scatter', x='x1', y='x2', ax=ax, color='r');"
   ]
  },
  {
   "cell_type": "markdown",
   "metadata": {
    "slideshow": {
     "slide_type": "slide"
    }
   },
   "source": [
    "## Learning the weights with stochastic gradient descent"
   ]
  },
  {
   "cell_type": "code",
   "execution_count": 22,
   "metadata": {
    "slideshow": {
     "slide_type": "fragment"
    }
   },
   "outputs": [],
   "source": [
    "def logistic_regression(features, target, num_steps, learning_rate):\n",
    "    \"\"\"\n",
    "    modified code from beckernick\n",
    "    (this implements the 'stochastic' version - slower)\n",
    "    \"\"\"\n",
    "    bias = np.ones((features.shape[0], 1))\n",
    "    features = np.hstack((bias, features))\n",
    "        \n",
    "    weights = np.zeros(features.shape[1])\n",
    "    \n",
    "    for step in range(num_steps):\n",
    "        total_loss=0\n",
    "        # go over the instances\n",
    "        for f, t in zip(features, target):\n",
    "            scores = np.dot(f, weights)\n",
    "            predictions = sigmoid(scores)\n",
    "\n",
    "            # Update weights\n",
    "            loss = t - predictions\n",
    "            gradient = np.dot(f.T, loss)\n",
    "            weights += learning_rate * gradient\n",
    "            total_loss += loss\n",
    "            \n",
    "        if step % 1000 == 0 and step > 0:\n",
    "            print(step, total_loss)\n",
    "            \n",
    "    return weights"
   ]
  },
  {
   "cell_type": "code",
   "execution_count": 23,
   "metadata": {
    "slideshow": {
     "slide_type": "slide"
    }
   },
   "outputs": [
    {
     "name": "stdout",
     "output_type": "stream",
     "text": [
      "1000 -25.091568944875647\n",
      "2000 -13.844934100190493\n",
      "3000 -9.744178365374385\n",
      "4000 -7.588047871110982\n",
      "5000 -6.245960348762934\n",
      "6000 -5.3244840436150875\n",
      "7000 -4.6497651637232735\n",
      "8000 -4.132731572728485\n",
      "9000 -3.7228723791775686\n",
      "10000 -3.3893348229765063\n",
      "11000 -3.112170974123976\n",
      "12000 -2.8778900482146503\n",
      "13000 -2.677029010361286\n",
      "14000 -2.502746310950573\n",
      "Model (weights):\n",
      "[-6.87177428 -2.17932302  3.99183032]\n"
     ]
    }
   ],
   "source": [
    "X_train, X_test, y_train, y_test = train_test_split(simulated_separableish_features, simulated_labels, test_size=0.2)\n",
    "\n",
    "weights = logistic_regression(X_train, y_train,\n",
    "                     num_steps = 15000, learning_rate = 5e-5)\n",
    "print(\"Model (weights):\")\n",
    "print(weights)"
   ]
  },
  {
   "cell_type": "markdown",
   "metadata": {
    "slideshow": {
     "slide_type": "slide"
    }
   },
   "source": [
    "How good are these weights (=is this model)? Let us compare with `sklearn`."
   ]
  },
  {
   "cell_type": "code",
   "execution_count": 24,
   "metadata": {
    "slideshow": {
     "slide_type": "fragment"
    }
   },
   "outputs": [
    {
     "name": "stdout",
     "output_type": "stream",
     "text": [
      "[-5.29246421] [[-1.69513242  3.16192486]]\n",
      "[-5.292464211226753, -1.6951324249334034, 3.1619248557795703]\n",
      "[-6.87177428 -2.17932302  3.99183032]\n"
     ]
    }
   ],
   "source": [
    "clf = LogisticRegression(solver = 'liblinear', multi_class = 'auto')\n",
    "clf.fit(X_train, y_train)\n",
    "print(clf.intercept_, clf.coef_)\n",
    "sklearn_weights = [clf.intercept_[0], clf.coef_[0][0],  clf.coef_[0][1]]\n",
    "print(sklearn_weights)\n",
    "print(weights)"
   ]
  },
  {
   "cell_type": "code",
   "execution_count": 25,
   "metadata": {
    "slideshow": {
     "slide_type": "skip"
    }
   },
   "outputs": [],
   "source": [
    "## plot utility functions from AJ and DH\n",
    "def get_y(x, w1, w2, bias):\n",
    "    '''\n",
    "    compute y value for specific x, given the weights and bias\n",
    "    (helper function for decision boundary)\n",
    "    '''\n",
    "    return (((-1 * x * w1) - bias) / w2)\n",
    "\n",
    "\n",
    "def plot_decision_boundary(model, ax, alpha=0.1, color='black', thickness=1):\n",
    "    '''\n",
    "    plot the decision boundary\n",
    "    '''\n",
    "    bias, w1, w2 = model\n",
    "    x_min = -4\n",
    "    x_max = 4\n",
    "    ax.plot([x_min, x_max], \n",
    "            [get_y(x_min, w1, w2, bias), get_y(x_max, w1, w2, bias)], \n",
    "            'k-', alpha=alpha, c=color, lw=thickness)"
   ]
  },
  {
   "cell_type": "code",
   "execution_count": 26,
   "metadata": {
    "slideshow": {
     "slide_type": "slide"
    }
   },
   "outputs": [
    {
     "data": {
      "image/png": "[encoded data removed]",
      "text/plain": [
       "<Figure size 432x288 with 1 Axes>"
      ]
     },
     "metadata": {
      "needs_background": "light"
     },
     "output_type": "display_data"
    }
   ],
   "source": [
    "# plot the data and decision boundary\n",
    "fig, ax = plt.subplots()\n",
    "\n",
    "data.query('label == 1').plot(kind='scatter', x='x1', y='x2', ax=ax, color='b')\n",
    "data.query('label == 0').plot(kind='scatter', x='x1', y='x2', ax=ax, color='r');\n",
    "plot_decision_boundary(weights, alpha=1.0, color='green', thickness=2, ax=ax)\n",
    "\n",
    "plot_decision_boundary(sklearn_weights, alpha=1.0, color='red', thickness=2, ax=ax)\n"
   ]
  },
  {
   "cell_type": "markdown",
   "metadata": {
    "slideshow": {
     "slide_type": "slide"
    }
   },
   "source": [
    "### Evaluating the accuracy of the classifiers"
   ]
  },
  {
   "cell_type": "code",
   "execution_count": 27,
   "metadata": {
    "slideshow": {
     "slide_type": "fragment"
    }
   },
   "outputs": [
    {
     "name": "stdout",
     "output_type": "stream",
     "text": [
      "[1, 0, 0, 0, 1, 1, 0, 1, 0, 0, 1, 0, 0, 0, 0, 1, 0, 0, 1, 1, 1, 1, 0, 0, 1, 0, 1, 0, 1, 0, 0, 1, 1, 1, 0, 0, 1, 1, 0, 0, 0, 0, 0, 1, 0, 1, 0, 1, 1, 1, 0, 0, 1, 1, 0, 1, 0, 1, 0, 1, 0, 0, 1, 0, 0, 0, 0, 1, 0, 1, 1, 1, 0, 0, 1, 0, 0, 1, 0, 1, 0, 0, 0, 1, 1, 1, 1, 1, 0, 1, 0, 0, 1, 1, 1, 0, 1, 0, 1, 1, 1, 1, 0, 0, 1, 1, 0, 0, 0, 1, 1, 0, 0, 1, 0, 1, 0, 1, 1, 0, 1, 1, 0, 1, 0, 1, 0, 0, 0, 0, 1, 0, 1, 0, 0, 0, 1, 0, 1, 1, 0, 1, 1, 0, 0, 0, 0, 1, 0, 1, 1, 0, 0, 1, 0, 0, 0, 1, 0, 0, 1, 1, 1, 0, 0, 0, 1, 0, 0, 0, 1, 0, 1, 1, 0, 1, 1, 1, 1, 0, 1, 1, 0, 1, 0, 1, 0, 0, 1, 0, 1, 1, 0, 1, 1, 1, 0, 0, 1, 0]\n",
      "0.995\n"
     ]
    }
   ],
   "source": [
    "from sklearn.metrics import accuracy_score\n",
    "\n",
    "def predict(input_X, weights):\n",
    "    bias = np.ones((input_X.shape[0], 1))\n",
    "    features = np.hstack((bias, input_X))\n",
    "    scores = np.dot(features, weights)\n",
    "    predictions = [1 if h>=0.5 else 0 for h in sigmoid(scores)]\n",
    "    return predictions\n",
    "\n",
    "predictions = predict(X_test, weights)\n",
    "print(predictions)\n",
    "\n",
    "print(accuracy_score(y_test, predictions))"
   ]
  },
  {
   "cell_type": "code",
   "execution_count": 28,
   "metadata": {
    "slideshow": {
     "slide_type": "fragment"
    }
   },
   "outputs": [
    {
     "name": "stdout",
     "output_type": "stream",
     "text": [
      "0.995\n"
     ]
    }
   ],
   "source": [
    "predictions_sklearn = clf.predict(X_test)\n",
    "print(accuracy_score(y_test, predictions_sklearn))"
   ]
  },
  {
   "cell_type": "markdown",
   "metadata": {
    "slideshow": {
     "slide_type": "slide"
    }
   },
   "source": [
    "## ML 101: What we need\n",
    "\n",
    "1. Data\n",
    "  * what your data looks like, the input $X$ and output (labels) $Y$ \n",
    "2. Features\n",
    "  * how to represent your data (the actual features): how $X$ is decomposed into its parts by the vectorizer/featurizer $\\phi$ --- **How do we do that for text data? See next section (Extracting features from text data)**\n",
    "3. Model/Algorithm\n",
    "  * the machine learning algorithm used \n",
    "4. Evaluation\n",
    "  * how to measure how good your model is "
   ]
  },
  {
   "cell_type": "markdown",
   "metadata": {
    "slideshow": {
     "slide_type": "slide"
    }
   },
   "source": [
    "## Exercise 1: Sentiment Classification\n",
    "\n",
    "Go to the folder 'exercise'. Retrieve the code. Go through the code with your neighbour. Fill\n",
    "out the blanks. Make sure you understand all the parts of the code. "
   ]
  },
  {
   "cell_type": "markdown",
   "metadata": {
    "slideshow": {
     "slide_type": "slide"
    }
   },
   "source": [
    "# References\n",
    "\n",
    "* [sklearn: Working with text data](http://scikit-learn.org/stable/tutorial/text_analytics/working_with_text_data.html)\n",
    "* [Andrew Ng's course notes](http://cs229.stanford.edu/notes/cs229-notes1.pdf)\n",
    "* [Andrew Ng's video session on Logistic Regression](https://www.youtube.com/watch?v=-la3q9d7AKQ)\n",
    "* [ESSLLI 2016 lecture 1 by M.Nissim and J.Bjerva](http://esslli2016.unibz.it/wp-content/uploads/2015/10/lecture1.pdf)\n",
    "* [Nick Becker's post on Logistic Regression from scratch (uses batch stochastic descent)](https://github.com/beckernick/logistic_regression_from_scratch/blob/master/logistic_regression_scratch.ipynb)"
   ]
  },
  {
   "cell_type": "code",
   "execution_count": null,
   "metadata": {},
   "outputs": [],
   "source": []
  }
 ],
 "metadata": {
  "celltoolbar": "Slideshow",
  "kernelspec": {
   "display_name": "Python 3",
   "language": "python",
   "name": "python3"
  },
  "language_info": {
   "codemirror_mode": {
    "name": "ipython",
    "version": 3
   },
   "file_extension": ".py",
   "mimetype": "text/x-python",
   "name": "python",
   "nbconvert_exporter": "python",
   "pygments_lexer": "ipython3",
   "version": "3.6.6"
  }
 },
 "nbformat": 4,
 "nbformat_minor": 1
}
